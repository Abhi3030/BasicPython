{
 "cells": [
  {
   "cell_type": "markdown",
   "metadata": {},
   "source": [
    "# Lab 1: Dictionaries and Classes"
   ]
  },
  {
   "cell_type": "markdown",
   "metadata": {},
   "source": [
    "## EXERCISE 1: Why does the following work?"
   ]
  },
  {
   "cell_type": "code",
   "execution_count": 1,
   "metadata": {},
   "outputs": [
    {
     "name": "stdout",
     "output_type": "stream",
     "text": [
      "(4, 5, 6)\n",
      "(1, 2, 3)\n"
     ]
    }
   ],
   "source": [
    "# TUPLE ASSIGNMENT\n",
    "# Whenever we need to swap two variables, we use the conventional method: Using a temporary variable,\n",
    "# temp = a \n",
    "# a = b \n",
    "# b = temp\n",
    "\n",
    "#It is rather simple to perform swapping using tuple assignment (does not require 'temp' variable!)\n",
    "A = (1, 2, 3) \n",
    "B = (4, 5, 6) \n",
    "A, B = B, A \n",
    "print (A)\n",
    "print (B)"
   ]
  },
  {
   "cell_type": "markdown",
   "metadata": {},
   "source": [
    "## EXERCISE 2: Count words in Julius Caesar and make a text based histogram\n",
    "\n",
    "Building on the first lab, using lowercase words, lets make a histogram. Create a dictionary `worddict`, that has the counts of all the words in Caesar."
   ]
  },
  {
   "cell_type": "code",
   "execution_count": 2,
   "metadata": {},
   "outputs": [],
   "source": [
    "# your code here\n",
    "## Read a file, parse lines, and get all UNIQUE words\n",
    "\n",
    "worddict = dict() # make a set with unique items  \n",
    "fd = open(\"data/Julius Caesar.txt\")\n",
    "lines = fd.readlines()\n",
    "fd.close()\n",
    "# strip newline characters and other whitespace off the edges\n",
    "cleaned_lines = [line.strip() for line in lines] \n",
    "# make a list of lists. \n",
    "# each inner list if the list of words on that line\n",
    "list_of_lines_words = [line.split() for line in lines]\n",
    "# Take each list of words, and get all the words\n",
    "for lines_words in list_of_lines_words:\n",
    "    lines_words_lower = [l.lower() for l in lines_words]\n",
    "    for word in lines_words_lower:\n",
    "        if not word in worddict:\n",
    "            worddict[word] = 1\n",
    "        else:\n",
    "            worddict[word] += 1"
   ]
  },
  {
   "cell_type": "markdown",
   "metadata": {},
   "source": [
    "Now here is where the iterative nature of dictionaries can be used to our benefit. We sort the worddict, using the function `worddict.get` to provide the values, which are the counts."
   ]
  },
  {
   "cell_type": "code",
   "execution_count": 3,
   "metadata": {},
   "outputs": [],
   "source": [
    "topwords = sorted(worddict, key = worddict.get, reverse=True)"
   ]
  },
  {
   "cell_type": "code",
   "execution_count": 4,
   "metadata": {},
   "outputs": [
    {
     "name": "stdout",
     "output_type": "stream",
     "text": [
      "the 629\n",
      "and 627\n",
      "i 499\n",
      "to 422\n",
      "of 374\n",
      "you 312\n",
      "a 275\n",
      "that 269\n",
      "is 236\n",
      "in 228\n",
      "brutus. 215\n",
      "not 207\n",
      "my 189\n",
      "he 185\n",
      "for 168\n",
      "his 157\n",
      "with 156\n",
      "it 153\n",
      "cassius. 150\n",
      "be 144\n"
     ]
    }
   ],
   "source": [
    "for word in topwords[:20]:\n",
    "    print(word, worddict[word])"
   ]
  },
  {
   "cell_type": "markdown",
   "metadata": {},
   "source": [
    "You can even make a hacky histogram for this by creating a '#' for every 10 occurences"
   ]
  },
  {
   "cell_type": "code",
   "execution_count": 5,
   "metadata": {},
   "outputs": [
    {
     "name": "stdout",
     "output_type": "stream",
     "text": [
      "the                  **************************************************************\n",
      "and                  **************************************************************\n",
      "i                    *************************************************\n",
      "to                   ******************************************\n",
      "of                   *************************************\n",
      "you                  *******************************\n",
      "a                    ***************************\n",
      "that                 **************************\n",
      "is                   ***********************\n",
      "in                   **********************\n",
      "brutus.              *********************\n",
      "not                  ********************\n",
      "my                   ******************\n",
      "he                   ******************\n",
      "for                  ****************\n",
      "his                  ***************\n",
      "with                 ***************\n",
      "it                   ***************\n",
      "cassius.             ***************\n",
      "be                   **************\n"
     ]
    }
   ],
   "source": [
    "for word in topwords[:20]:\n",
    "    print(word+(20 - len(word))*' ', (worddict[word]//10)*'*')"
   ]
  },
  {
   "cell_type": "markdown",
   "metadata": {},
   "source": [
    "## EXERCISE 3: Simulate a Bank Account"
   ]
  },
  {
   "cell_type": "code",
   "execution_count": 8,
   "metadata": {},
   "outputs": [],
   "source": [
    "class BankAccount:\n",
    "    def __init__(self, balance):\n",
    "        self.balance = balance\n",
    "        \n",
    "    def withdraw(self, amount):\n",
    "        self.balance = self.balance - amount"
   ]
  },
  {
   "cell_type": "code",
   "execution_count": 9,
   "metadata": {},
   "outputs": [
    {
     "name": "stdout",
     "output_type": "stream",
     "text": [
      "100\n"
     ]
    },
    {
     "data": {
      "text/plain": [
       "80"
      ]
     },
     "execution_count": 9,
     "metadata": {},
     "output_type": "execute_result"
    }
   ],
   "source": [
    "myaccount = BankAccount(100)\n",
    "print(myaccount.balance)\n",
    "myaccount.withdraw(20)\n",
    "myaccount.balance"
   ]
  },
  {
   "cell_type": "markdown",
   "metadata": {},
   "source": [
    "Python supports inheritance. Indeed, in python, all classes inherit from object, which means that they all get some attributes and methods from object.\n",
    "\n",
    "What is inheritance, more precisely? In inheritance an object is based on another object. When inheritance is implemented, the methods and attributes that were defined in the base class will also be present in the inherited class. This is generally done to abstract away similar code in multiple classes. The abstracted code will reside in the base class and the previous classes will now inherit from the base class.\n",
    "\n",
    "Let's look at an example of inheritance. In the following example, Rocket is the base class and MarsRover is the inherited class. Notice the string interpolation in the formatting as well."
   ]
  },
  {
   "cell_type": "code",
   "execution_count": 14,
   "metadata": {},
   "outputs": [],
   "source": [
    "class Rocket:\n",
    "    def __init__(self, name, distance):\n",
    "        self.name = name\n",
    "        self.distance = distance\n",
    "\n",
    "    def launch(self):\n",
    "        return \"%s has reached %s\" % (self.name, self.distance)\n",
    "    \n",
    "    def get_maker(self):\n",
    "        return \"%s Launched\" % self.name\n",
    "\n",
    "\n",
    "class MarsRover(Rocket): # inheriting from the base class\n",
    "    def __init__(self, name, distance, maker):\n",
    "        Rocket.__init__(self, name, distance)\n",
    "        self.maker = maker\n",
    "\n",
    "    def get_maker(self):\n",
    "        return \"%s Launched by %s\" % (self.name, self.maker)"
   ]
  },
  {
   "cell_type": "code",
   "execution_count": 15,
   "metadata": {},
   "outputs": [
    {
     "name": "stdout",
     "output_type": "stream",
     "text": [
      "Simple rocket has reached till stratosphere\n",
      "Mangalyaan has reached till Mars\n",
      "Simple rocket Launched\n",
      "Mangalyaan Launched by ISRO\n"
     ]
    }
   ],
   "source": [
    "x = Rocket(\"Simple rocket\", \"till stratosphere\")\n",
    "y = MarsRover(\"Mangalyaan\", \"till Mars\", \"ISRO\")\n",
    "print(x.launch())\n",
    "print(y.launch()) # dispatches to Ricket's launch\n",
    "print(x.get_maker())\n",
    "print(y.get_maker())"
   ]
  },
  {
   "cell_type": "markdown",
   "metadata": {},
   "source": [
    "`launch` is not defined by the derived class `MarsRover` so the `launch` for instance `y` is used from `Rocket`. On the other hand, `MarsRover` defines a new `get_maker` so that overrides the one from `Rocket`. Thus inheritance can be used to share functionality when needed and diversify when not."
   ]
  },
  {
   "cell_type": "markdown",
   "metadata": {},
   "source": [
    "Define an error checking bank account `ECBankAccount` which inherits from `BankAccount` but will not allow overdraws. If there is an overdraw raise a `ValueError` with a message \"Withdrawal Not Allowed\": read up on this. Create two accounts one regular and one he derived class instance and wihdraw more than the balance from both."
   ]
  },
  {
   "cell_type": "code",
   "execution_count": 21,
   "metadata": {},
   "outputs": [],
   "source": [
    "# youe code here\n",
    "class ECBankAccount:\n",
    "    def __init__(self, balance):\n",
    "        self.balance = balance\n",
    "        \n",
    "    def withdraw(self, amount):\n",
    "        check = self.balance - amount\n",
    "        if check >=0:\n",
    "            self.balance -= amount\n",
    "        else:\n",
    "            raise ValueError(\"Withdrawal Not Allowed\")"
   ]
  },
  {
   "cell_type": "code",
   "execution_count": 22,
   "metadata": {},
   "outputs": [
    {
     "data": {
      "text/plain": [
       "-20"
      ]
     },
     "execution_count": 22,
     "metadata": {},
     "output_type": "execute_result"
    }
   ],
   "source": [
    "x = BankAccount(100)\n",
    "x.withdraw(120)\n",
    "x.balance"
   ]
  },
  {
   "cell_type": "code",
   "execution_count": 23,
   "metadata": {},
   "outputs": [
    {
     "ename": "ValueError",
     "evalue": "Withdrawal Not Allowed",
     "output_type": "error",
     "traceback": [
      "\u001b[0;31m---------------------------------------------------------------------------\u001b[0m",
      "\u001b[0;31mValueError\u001b[0m                                Traceback (most recent call last)",
      "\u001b[0;32m<ipython-input-23-a76b103400b5>\u001b[0m in \u001b[0;36m<module>\u001b[0;34m\u001b[0m\n\u001b[1;32m      1\u001b[0m \u001b[0my\u001b[0m \u001b[0;34m=\u001b[0m \u001b[0mECBankAccount\u001b[0m\u001b[0;34m(\u001b[0m\u001b[0;36m100\u001b[0m\u001b[0;34m)\u001b[0m\u001b[0;34m\u001b[0m\u001b[0;34m\u001b[0m\u001b[0m\n\u001b[0;32m----> 2\u001b[0;31m \u001b[0my\u001b[0m\u001b[0;34m.\u001b[0m\u001b[0mwithdraw\u001b[0m\u001b[0;34m(\u001b[0m\u001b[0;36m120\u001b[0m\u001b[0;34m)\u001b[0m\u001b[0;34m\u001b[0m\u001b[0;34m\u001b[0m\u001b[0m\n\u001b[0m",
      "\u001b[0;32m<ipython-input-21-f6bf4f93ade4>\u001b[0m in \u001b[0;36mwithdraw\u001b[0;34m(self, amount)\u001b[0m\n\u001b[1;32m      9\u001b[0m             \u001b[0mself\u001b[0m\u001b[0;34m.\u001b[0m\u001b[0mbalance\u001b[0m \u001b[0;34m-=\u001b[0m \u001b[0mamount\u001b[0m\u001b[0;34m\u001b[0m\u001b[0;34m\u001b[0m\u001b[0m\n\u001b[1;32m     10\u001b[0m         \u001b[0;32melse\u001b[0m\u001b[0;34m:\u001b[0m\u001b[0;34m\u001b[0m\u001b[0;34m\u001b[0m\u001b[0m\n\u001b[0;32m---> 11\u001b[0;31m             \u001b[0;32mraise\u001b[0m \u001b[0mValueError\u001b[0m\u001b[0;34m(\u001b[0m\u001b[0;34m\"Withdrawal Not Allowed\"\u001b[0m\u001b[0;34m)\u001b[0m\u001b[0;34m\u001b[0m\u001b[0;34m\u001b[0m\u001b[0m\n\u001b[0m",
      "\u001b[0;31mValueError\u001b[0m: Withdrawal Not Allowed"
     ]
    }
   ],
   "source": [
    "y = ECBankAccount(100)\n",
    "y.withdraw(120)"
   ]
  },
  {
   "cell_type": "code",
   "execution_count": 24,
   "metadata": {},
   "outputs": [
    {
     "data": {
      "text/plain": [
       "100"
      ]
     },
     "execution_count": 24,
     "metadata": {},
     "output_type": "execute_result"
    }
   ],
   "source": [
    "y.balance"
   ]
  }
 ],
 "metadata": {
  "kernelspec": {
   "display_name": "Python 3",
   "language": "python",
   "name": "python3"
  },
  "language_info": {
   "codemirror_mode": {
    "name": "ipython",
    "version": 3
   },
   "file_extension": ".py",
   "mimetype": "text/x-python",
   "name": "python",
   "nbconvert_exporter": "python",
   "pygments_lexer": "ipython3",
   "version": "3.7.6"
  }
 },
 "nbformat": 4,
 "nbformat_minor": 4
}
