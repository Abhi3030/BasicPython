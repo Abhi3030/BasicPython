{
 "cells": [
  {
   "cell_type": "markdown",
   "metadata": {},
   "source": [
    "# Functions"
   ]
  },
  {
   "cell_type": "markdown",
   "metadata": {
    "colab_type": "text",
    "id": "XzUQ1Ud39PFf"
   },
   "source": [
    "\n",
    "A function is a set of statements that take inputs, do some specific computation and produces output. \n",
    "\n",
    "There are many ways to define functions:\n",
    "\n",
    "- Functions can be built-in to python, or imported from an existing Python Library\n",
    "- A function can be user defined\n",
    "- A function can be anonymous\n",
    "- functions can belong to objects. More on this later.\n",
    "\n",
    "properties of functions:\n",
    "\n",
    "- A function can be called from other functions\n",
    "- Can return data\n",
    "\n",
    "![](functions.slides.dir/2.png)\n",
    "\n",
    "Here is another example of a built-in function"
   ]
  },
  {
   "cell_type": "markdown",
   "metadata": {},
   "source": [
    "## Built-ins and imports"
   ]
  },
  {
   "cell_type": "code",
   "execution_count": 1,
   "metadata": {
    "colab": {},
    "colab_type": "code",
    "id": "jpsMeACR9dpx"
   },
   "outputs": [
    {
     "data": {
      "text/plain": [
       "15"
      ]
     },
     "execution_count": 1,
     "metadata": {},
     "output_type": "execute_result"
    }
   ],
   "source": [
    "#Built-in functions\n",
    "\n",
    "var1 = -15\n",
    "abs(var1)"
   ]
  },
  {
   "cell_type": "markdown",
   "metadata": {},
   "source": [
    "Here are two different ways of **importing from a module**, which is a library of python functions:"
   ]
  },
  {
   "cell_type": "code",
   "execution_count": 10,
   "metadata": {},
   "outputs": [
    {
     "data": {
      "text/plain": [
       "2.0"
      ]
     },
     "execution_count": 10,
     "metadata": {},
     "output_type": "execute_result"
    }
   ],
   "source": [
    "from math import sqrt\n",
    "sqrt(4)"
   ]
  },
  {
   "cell_type": "code",
   "execution_count": 16,
   "metadata": {},
   "outputs": [
    {
     "data": {
      "text/plain": [
       "4"
      ]
     },
     "execution_count": 16,
     "metadata": {},
     "output_type": "execute_result"
    }
   ],
   "source": [
    "import os\n",
    "os.cpu_count()"
   ]
  },
  {
   "cell_type": "markdown",
   "metadata": {
    "colab_type": "text",
    "id": "8aXJYao_5gFW"
   },
   "source": [
    "## Defining your own functions\n",
    "\n",
    "![](functions.slides.dir/3.png)\n",
    "\n",
    "- You can take a number of arguments as input with varying data types. \n",
    "- The arguemnts can optionally have default values which are used in case of no values passed to the function."
   ]
  },
  {
   "cell_type": "code",
   "execution_count": 2,
   "metadata": {
    "colab": {},
    "colab_type": "code",
    "id": "OK4WYT7f9awE"
   },
   "outputs": [
    {
     "name": "stdout",
     "output_type": "stream",
     "text": [
      "16\n"
     ]
    }
   ],
   "source": [
    "# User-defined function with one argument\n",
    "\n",
    "def function_name1(var1):\n",
    "    var2 = 10\n",
    "    x = var1 + var2\n",
    "    return x\n",
    "\n",
    "var1 = 6\n",
    "var2 = function_name1(var1)\n",
    "print (var2)"
   ]
  },
  {
   "cell_type": "code",
   "execution_count": 3,
   "metadata": {
    "colab": {},
    "colab_type": "code",
    "id": "SsPmY2f26rj7"
   },
   "outputs": [
    {
     "name": "stdout",
     "output_type": "stream",
     "text": [
      "This is the list that has been returned  [7, 8, 9, 10]\n"
     ]
    }
   ],
   "source": [
    "#User defined function with 2 arguments, where the second one is a list with default values.\n",
    "\n",
    "def function_name2(var2, l1=[1,2,3,4]):\n",
    "    l2 = []\n",
    "    for i in l1:\n",
    "        l2.append(var2+i)\n",
    "    return l2\n",
    "\n",
    "var2 = 6\n",
    "l = function_name2(var2)\n",
    "print (\"This is the list that has been returned \", l)"
   ]
  },
  {
   "cell_type": "code",
   "execution_count": 4,
   "metadata": {},
   "outputs": [
    {
     "data": {
      "text/plain": [
       "[6, 6, 6, 6]"
      ]
     },
     "execution_count": 4,
     "metadata": {},
     "output_type": "execute_result"
    }
   ],
   "source": [
    "function_name2(var2, [0,0,0,0])"
   ]
  },
  {
   "cell_type": "code",
   "execution_count": 5,
   "metadata": {},
   "outputs": [
    {
     "data": {
      "text/plain": [
       "[6, 6, 6, 6]"
      ]
     },
     "execution_count": 5,
     "metadata": {},
     "output_type": "execute_result"
    }
   ],
   "source": [
    "function_name2(var2, l1=[0,0,0,0])"
   ]
  },
  {
   "cell_type": "markdown",
   "metadata": {},
   "source": [
    "## Anonymous Functions\n",
    "\n",
    "Functions may also be defined using the so-called **lambda** or anonymous function, in which functions are then assigned to variables:"
   ]
  },
  {
   "cell_type": "code",
   "execution_count": 6,
   "metadata": {},
   "outputs": [],
   "source": [
    "square = lambda x: x*x\n",
    "affine = lambda a,b,x: a+b*x"
   ]
  },
  {
   "cell_type": "markdown",
   "metadata": {},
   "source": [
    "These are particularly useful for math where most functions are algebraic 1-liners"
   ]
  },
  {
   "cell_type": "code",
   "execution_count": 7,
   "metadata": {},
   "outputs": [
    {
     "data": {
      "text/plain": [
       "25"
      ]
     },
     "execution_count": 7,
     "metadata": {},
     "output_type": "execute_result"
    }
   ],
   "source": [
    "square(5)"
   ]
  },
  {
   "cell_type": "code",
   "execution_count": 8,
   "metadata": {},
   "outputs": [
    {
     "data": {
      "text/plain": [
       "11"
      ]
     },
     "execution_count": 8,
     "metadata": {},
     "output_type": "execute_result"
    }
   ],
   "source": [
    "affine(1,2,5)"
   ]
  },
  {
   "cell_type": "markdown",
   "metadata": {
    "colab_type": "text",
    "id": "J3a7HA35w655"
   },
   "source": [
    "## The scope of variables in functions\n",
    "\n",
    "![](functions.slides.dir/7.png)\n",
    "\n",
    "- Scope of a variable is the portion of a program where the variable is recognized. Parameters and variables defined inside a function are not visible from outside. Hence, they have a local scope.\n",
    "\n",
    "- Lifetime of a variable is the period throughout which the variable exits in the memory. The lifetime of variables inside a function is as long as the function executes.\n",
    "\n",
    "- They are destroyed once we return from the function. Hence, a function does not remember the value of a variable from its previous calls.\n",
    "\n",
    "The scope of this jupyter notebook, or in a python file, is the **global scope**. Cariables defined here exist through the lifetime of the python program.\n",
    "\n",
    "The scope defined inside of a function definition is the **local** scope.\n",
    "\n",
    "Here is an example to illustrate the scope of a variable inside a function."
   ]
  },
  {
   "cell_type": "code",
   "execution_count": 8,
   "metadata": {
    "colab": {},
    "colab_type": "code",
    "id": "_VY5wunTxNxY"
   },
   "outputs": [
    {
     "name": "stdout",
     "output_type": "stream",
     "text": [
      "Value inside function: 10\n",
      "Value outside function: 20\n"
     ]
    }
   ],
   "source": [
    "def my_func():\n",
    "    x = 10\n",
    "    print(\"Value inside function:\",x)\n",
    "\n",
    "x = 20\n",
    "my_func()\n",
    "print(\"Value outside function:\",x)"
   ]
  },
  {
   "cell_type": "markdown",
   "metadata": {},
   "source": [
    "In this way, a variable defined locally can shadow a global. Here the value `x` inside `my_func`comes from the local definition (10), not the global one (20)\n",
    "\n",
    "![](functions.slides.dir/8.png)"
   ]
  }
 ],
 "metadata": {
  "colab": {
   "collapsed_sections": [],
   "name": "L1 - Lec4.ipynb",
   "provenance": []
  },
  "kernelspec": {
   "display_name": "Python 3",
   "language": "python",
   "name": "python3"
  },
  "language_info": {
   "codemirror_mode": {
    "name": "ipython",
    "version": 3
   },
   "file_extension": ".py",
   "mimetype": "text/x-python",
   "name": "python",
   "nbconvert_exporter": "python",
   "pygments_lexer": "ipython3",
   "version": "3.7.6"
  }
 },
 "nbformat": 4,
 "nbformat_minor": 4
}
