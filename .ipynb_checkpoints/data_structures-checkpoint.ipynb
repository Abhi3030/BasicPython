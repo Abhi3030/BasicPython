{
 "cells": [
  {
   "cell_type": "markdown",
   "metadata": {},
   "source": [
    "# Data Structures"
   ]
  },
  {
   "cell_type": "markdown",
   "metadata": {
    "colab_type": "text",
    "id": "VeAvOhBe1yLK"
   },
   "source": [
    "![](data_structures.slides.dir/6.png)\n",
    "\n",
    "## Dictionaries\n",
    "\n",
    "A \"bag\" of **value**s, each with its own label, called a **key**. The 'most powerful' data collection type,and one I suspect you will find yourself using a lot!\n",
    "\n",
    "A dictionary is similar to a list, and you can iterate over it but:\n",
    "- the order of items doesn't matter (use an `OrderedDict` for this)\n",
    "- they aren't selected by an index such as 0 or 5. \n",
    "\n",
    "Instead, a unique 'key' is associated with each 'value' . The 'key' can be any **immutable data type**: boolean, float, int, tuple, string (but it is often a string)\n",
    "\n",
    "Dictionaries themselves are \"Mutable\" (the values can be changed)."
   ]
  },
  {
   "cell_type": "code",
   "execution_count": 1,
   "metadata": {
    "colab": {},
    "colab_type": "code",
    "id": "p_ly6QO42EQB"
   },
   "outputs": [
    {
     "name": "stdout",
     "output_type": "stream",
     "text": [
      "<class 'dict'>\n",
      "{'day': 5, 'venue': 'GJB', 'event': 'Python Carnival!'}\n"
     ]
    }
   ],
   "source": [
    "# Creating a dictionary:\n",
    "# 1. Using {}\n",
    "empty_dict = {} \n",
    "print (type(empty_dict))\n",
    "new_dict = { \"day\":5, \"venue\": \"GJB\", \"event\": \"Python Carnival!\" }\n",
    "print(new_dict)"
   ]
  },
  {
   "cell_type": "code",
   "execution_count": 2,
   "metadata": {
    "colab": {},
    "colab_type": "code",
    "id": "5ilpj0sF2P7r"
   },
   "outputs": [
    {
     "data": {
      "text/plain": [
       "{'type': 'wallet', 'material': 'leather'}"
      ]
     },
     "execution_count": 2,
     "metadata": {},
     "output_type": "execute_result"
    }
   ],
   "source": [
    "#2. Using dict()\n",
    "purse = dict(type=\"wallet\", material=\"leather\")\n",
    "purse"
   ]
  },
  {
   "cell_type": "code",
   "execution_count": 3,
   "metadata": {},
   "outputs": [
    {
     "data": {
      "text/plain": [
       "{'type': 'wallet', 'material': 'leather', 'make': 'Versace'}"
      ]
     },
     "execution_count": 3,
     "metadata": {},
     "output_type": "execute_result"
    }
   ],
   "source": [
    "purse['make'] = \"Versace\"\n",
    "purse"
   ]
  },
  {
   "cell_type": "markdown",
   "metadata": {
    "colab_type": "text",
    "id": "nytPS7CB2Sly"
   },
   "source": [
    "### Dictionary operations"
   ]
  },
  {
   "cell_type": "code",
   "execution_count": 5,
   "metadata": {
    "colab": {},
    "colab_type": "code",
    "id": "lZ6umYfc2YXm"
   },
   "outputs": [
    {
     "name": "stdout",
     "output_type": "stream",
     "text": [
      "{'name': 'Alice', 'age': 18}\n"
     ]
    }
   ],
   "source": [
    "# Alternative construction techniques:\n",
    "\n",
    "# (i) dict_var = dict([(key1, value1),(key2, value2), ...])\t\n",
    "D = dict([('name','Alice'),('age',18)])\n",
    "print(D)"
   ]
  },
  {
   "cell_type": "markdown",
   "metadata": {},
   "source": [
    "This is construction from a list of tuples. We'll see tuples soon."
   ]
  },
  {
   "cell_type": "code",
   "execution_count": 6,
   "metadata": {
    "colab": {},
    "colab_type": "code",
    "id": "lZ6umYfc2YXm"
   },
   "outputs": [
    {
     "data": {
      "text/plain": [
       "{'name': None, 'age': None, 'place': None}"
      ]
     },
     "execution_count": 6,
     "metadata": {},
     "output_type": "execute_result"
    }
   ],
   "source": [
    "# Creating dict from keys only\n",
    "# dict_var = dict.fromkeys([key1, key2, ...])\n",
    "D = dict.fromkeys(['name','age','place'])\n",
    "D"
   ]
  },
  {
   "cell_type": "markdown",
   "metadata": {},
   "source": [
    "Notice that the values have been asigned to a special object in python `None` which is of type `NoneType`. Its specially created to handle the situation of missing values, and evaluates as falsy in conditionals."
   ]
  },
  {
   "cell_type": "code",
   "execution_count": 7,
   "metadata": {},
   "outputs": [
    {
     "name": "stdout",
     "output_type": "stream",
     "text": [
      "Nothing specified\n"
     ]
    }
   ],
   "source": [
    "if D['age']:\n",
    "    print(\"Age is\", d['age'])\n",
    "else:\n",
    "    print(\"Nothing specified\")"
   ]
  },
  {
   "cell_type": "markdown",
   "metadata": {},
   "source": [
    "Its often used thus, using the opearator `not` in some flow.."
   ]
  },
  {
   "cell_type": "code",
   "execution_count": 8,
   "metadata": {},
   "outputs": [
    {
     "name": "stdout",
     "output_type": "stream",
     "text": [
      "Age not given..ask!\n"
     ]
    }
   ],
   "source": [
    "if not D['age']:\n",
    "    print(\"Age not given..ask!\")"
   ]
  },
  {
   "cell_type": "code",
   "execution_count": 9,
   "metadata": {
    "colab": {},
    "colab_type": "code",
    "id": "kwXnsK0p2aIB"
   },
   "outputs": [
    {
     "name": "stdout",
     "output_type": "stream",
     "text": [
      "None\n"
     ]
    },
    {
     "data": {
      "text/plain": [
       "True"
      ]
     },
     "execution_count": 9,
     "metadata": {},
     "output_type": "execute_result"
    }
   ],
   "source": [
    "# Indexing by key dict_var['key']\n",
    "print (D['age'])\n",
    "\n",
    "# Membership operation 'key' in dict_var\n",
    "'place' in D"
   ]
  },
  {
   "cell_type": "markdown",
   "metadata": {},
   "source": [
    "Dictionaries are listy:"
   ]
  },
  {
   "cell_type": "code",
   "execution_count": 10,
   "metadata": {},
   "outputs": [
    {
     "name": "stdout",
     "output_type": "stream",
     "text": [
      "day : 5\n",
      "venue : GJB\n",
      "event : Python Carnival!\n"
     ]
    }
   ],
   "source": [
    "for key in new_dict:\n",
    "    print(key, \":\", new_dict[key])"
   ]
  },
  {
   "cell_type": "code",
   "execution_count": 11,
   "metadata": {},
   "outputs": [
    {
     "name": "stdout",
     "output_type": "stream",
     "text": [
      "day ; 5\n",
      "venue ; GJB\n",
      "event ; Python Carnival!\n"
     ]
    }
   ],
   "source": [
    "for key, value in new_dict.items():\n",
    "    print(key, \";\", value)"
   ]
  },
  {
   "cell_type": "markdown",
   "metadata": {
    "colab_type": "text",
    "id": "KHklU_U82kip"
   },
   "source": [
    "![](data_structures.slides.dir/5.png)\n",
    "\n",
    "Some other useful methods:\n",
    "\n",
    "1. All keys `dict_var.keys()`\n",
    "2. All values `dict_var.values()`\n",
    "3. All key + value tuples `dict_var.items()`  \n",
    "4. Copy method `dict_var.copy()`\n",
    "5. Remove all items `dict_var.clear()`\n",
    "6. Merging keys from different dict `dict_var1.update(dict_var2)`\n",
    "7. Fetch by key, if absent default `dict_var.get(key, default)`\n",
    "8. Remove by key, if absent default `dict_var.pop(key, default)`\n",
    "9. Fetch by key, if absent set default `dict_var.setdefault(key, default)` \n",
    "10. deleting items by key `del dict_var[key]`"
   ]
  },
  {
   "cell_type": "markdown",
   "metadata": {
    "colab_type": "text",
    "id": "Nqu1Ux2V4Tt9"
   },
   "source": [
    "Dictionaries can be iterated over using dictionary comprehensions which look thus:\n",
    "`output_dict = {key:value for (key, value) in iterable if (key, value satisfy this condition)}`"
   ]
  },
  {
   "cell_type": "code",
   "execution_count": 27,
   "metadata": {
    "colab": {},
    "colab_type": "code",
    "id": "YXwpLDp44hsi"
   },
   "outputs": [
    {
     "name": "stdout",
     "output_type": "stream",
     "text": [
      "Output Dictionary using dictionary comprehensions: {1: 1, 3: 27, 5: 125, 7: 343}\n"
     ]
    }
   ],
   "source": [
    "# Using Dictionary comprehensions to create an output dictionary which contains only the odd numbers that are present in the input list as keys and their cubes as values\n",
    "  \n",
    "input_list = [1,2,3,4,5,6,7] \n",
    "dict_using_comp = {var:var ** 3 for var in input_list if var % 2 != 0} \n",
    "  \n",
    "print(\"Output Dictionary using dictionary comprehensions:\", dict_using_comp)"
   ]
  },
  {
   "cell_type": "markdown",
   "metadata": {
    "colab_type": "text",
    "id": "sP_KKE5M1MFY"
   },
   "source": [
    "## Tuples\n",
    "\n",
    "They are a fast kind of sequence that functions much like a list - they have elements which are indexed starting at 0. They work exactly like lists, except that tuples can't be changed in place!! This means they are immutable, and this guarantee gives them their speed.\n",
    "\n",
    "\n",
    "BASIC PROPERTIES:\n",
    "\n",
    "- Ordered collections of arbitrary objects\n",
    "- Accessed by index\n",
    "- Of the category \"immutable sequence\"\n",
    "- Fixed-length, heterogeneous and arbitrarily nested\n",
    "\n",
    "The fixed length is important for performance. Unlike lists, they cannot be grown or shrunk.\n",
    "\n",
    "Theare are some ways to make tuples:"
   ]
  },
  {
   "cell_type": "code",
   "execution_count": 12,
   "metadata": {
    "colab": {},
    "colab_type": "code",
    "id": "LB1rWm6W1eiS"
   },
   "outputs": [
    {
     "data": {
      "text/plain": [
       "tuple"
      ]
     },
     "execution_count": 12,
     "metadata": {},
     "output_type": "execute_result"
    }
   ],
   "source": [
    "# CREATING TUPLEs\n",
    "x = tuple() \n",
    "type(x)\t"
   ]
  },
  {
   "cell_type": "code",
   "execution_count": 13,
   "metadata": {
    "colab": {},
    "colab_type": "code",
    "id": "Qx4eqI5-1gtq"
   },
   "outputs": [
    {
     "data": {
      "text/plain": [
       "tuple"
      ]
     },
     "execution_count": 13,
     "metadata": {},
     "output_type": "execute_result"
    }
   ],
   "source": [
    "# (b) Using only ()\n",
    "t=() \n",
    "type(t) "
   ]
  },
  {
   "cell_type": "markdown",
   "metadata": {},
   "source": [
    "The above tuples are 0-length and not so useful. Because tuples are immutable, the following code will not work."
   ]
  },
  {
   "cell_type": "code",
   "execution_count": 14,
   "metadata": {},
   "outputs": [
    {
     "ename": "TypeError",
     "evalue": "'tuple' object does not support item assignment",
     "output_type": "error",
     "traceback": [
      "\u001b[0;31m---------------------------------------------------------------------------\u001b[0m",
      "\u001b[0;31mTypeError\u001b[0m                                 Traceback (most recent call last)",
      "\u001b[0;32m<ipython-input-14-6dd06f73cec4>\u001b[0m in \u001b[0;36m<module>\u001b[0;34m\u001b[0m\n\u001b[0;32m----> 1\u001b[0;31m \u001b[0mt\u001b[0m\u001b[0;34m[\u001b[0m\u001b[0;36m0\u001b[0m\u001b[0;34m]\u001b[0m \u001b[0;34m=\u001b[0m \u001b[0;36m5\u001b[0m\u001b[0;34m\u001b[0m\u001b[0;34m\u001b[0m\u001b[0m\n\u001b[0m",
      "\u001b[0;31mTypeError\u001b[0m: 'tuple' object does not support item assignment"
     ]
    }
   ],
   "source": [
    "t[0] = 5"
   ]
  },
  {
   "cell_type": "markdown",
   "metadata": {},
   "source": [
    "You will usually see them defined thus:"
   ]
  },
  {
   "cell_type": "code",
   "execution_count": 39,
   "metadata": {
    "colab": {},
    "colab_type": "code",
    "id": "dSU_mKH81kVu"
   },
   "outputs": [
    {
     "name": "stdout",
     "output_type": "stream",
     "text": [
      "(1, 2, 3, 4)\n"
     ]
    }
   ],
   "source": [
    "z = 1,2,3,4 # or z = (1, 2, 3, 4)\n",
    "type(z) \n",
    "print(z)"
   ]
  },
  {
   "cell_type": "markdown",
   "metadata": {},
   "source": [
    "Of-course `z` is immutable"
   ]
  },
  {
   "cell_type": "code",
   "execution_count": 40,
   "metadata": {},
   "outputs": [
    {
     "ename": "TypeError",
     "evalue": "'tuple' object does not support item assignment",
     "output_type": "error",
     "traceback": [
      "\u001b[0;31m---------------------------------------------------------------------------\u001b[0m",
      "\u001b[0;31mTypeError\u001b[0m                                 Traceback (most recent call last)",
      "\u001b[0;32m<ipython-input-40-5bca15b978ba>\u001b[0m in \u001b[0;36m<module>\u001b[0;34m()\u001b[0m\n\u001b[0;32m----> 1\u001b[0;31m \u001b[0mz\u001b[0m\u001b[0;34m[\u001b[0m\u001b[0;36m2\u001b[0m\u001b[0;34m]\u001b[0m \u001b[0;34m=\u001b[0m \u001b[0;36m3\u001b[0m\u001b[0;34m\u001b[0m\u001b[0;34m\u001b[0m\u001b[0m\n\u001b[0m",
      "\u001b[0;31mTypeError\u001b[0m: 'tuple' object does not support item assignment"
     ]
    }
   ],
   "source": [
    "z[2] = 3"
   ]
  },
  {
   "cell_type": "markdown",
   "metadata": {},
   "source": [
    "And tuples are, as you might expect, listy"
   ]
  },
  {
   "cell_type": "code",
   "execution_count": 15,
   "metadata": {
    "colab": {},
    "colab_type": "code",
    "id": "_u4Ru89V1vBc"
   },
   "outputs": [
    {
     "name": "stdout",
     "output_type": "stream",
     "text": [
      "1\n",
      "2\n",
      "3\n",
      "4\n",
      "5\n"
     ]
    }
   ],
   "source": [
    "T1 = (1, 2, 3, 4, 5) \n",
    "for ele in T1:\n",
    "    print(ele)"
   ]
  },
  {
   "cell_type": "markdown",
   "metadata": {},
   "source": [
    "![](data_structures.slides.dir/8.png)"
   ]
  }
 ],
 "metadata": {
  "colab": {
   "collapsed_sections": [],
   "name": "L1 - Lec3.ipynb",
   "provenance": []
  },
  "kernelspec": {
   "display_name": "Python 3",
   "language": "python",
   "name": "python3"
  },
  "language_info": {
   "codemirror_mode": {
    "name": "ipython",
    "version": 3
   },
   "file_extension": ".py",
   "mimetype": "text/x-python",
   "name": "python",
   "nbconvert_exporter": "python",
   "pygments_lexer": "ipython3",
   "version": "3.7.6"
  }
 },
 "nbformat": 4,
 "nbformat_minor": 4
}
