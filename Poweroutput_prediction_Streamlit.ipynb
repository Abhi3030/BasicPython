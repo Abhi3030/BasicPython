{
  "nbformat": 4,
  "nbformat_minor": 0,
  "metadata": {
    "colab": {
      "provenance": [],
      "mount_file_id": "1RQOXfCwQ__HlK2Op3vFrm7mjVV7qcHsa",
      "authorship_tag": "ABX9TyOWTlGniqTENUNZlcNRzDOA",
      "include_colab_link": true
    },
    "kernelspec": {
      "name": "python3",
      "display_name": "Python 3"
    },
    "language_info": {
      "name": "python"
    }
  },
  "cells": [
    {
      "cell_type": "markdown",
      "metadata": {
        "id": "view-in-github",
        "colab_type": "text"
      },
      "source": [
        "<a href=\"https://colab.research.google.com/github/Abhi3030/BasicPython/blob/main/Poweroutput_prediction_Streamlit.ipynb\" target=\"_parent\"><img src=\"https://colab.research.google.com/assets/colab-badge.svg\" alt=\"Open In Colab\"/></a>"
      ]
    },
    {
      "cell_type": "code",
      "execution_count": 1,
      "metadata": {
        "colab": {
          "base_uri": "https://localhost:8080/"
        },
        "id": "wt804IcNlcM0",
        "outputId": "ae8862f7-a819-4f3b-a248-92bb015e545f"
      },
      "outputs": [
        {
          "output_type": "stream",
          "name": "stdout",
          "text": [
            "Collecting streamlit\n",
            "  Downloading streamlit-1.42.0-py2.py3-none-any.whl.metadata (8.9 kB)\n",
            "Requirement already satisfied: altair<6,>=4.0 in /usr/local/lib/python3.11/dist-packages (from streamlit) (5.5.0)\n",
            "Requirement already satisfied: blinker<2,>=1.0.0 in /usr/local/lib/python3.11/dist-packages (from streamlit) (1.9.0)\n",
            "Requirement already satisfied: cachetools<6,>=4.0 in /usr/local/lib/python3.11/dist-packages (from streamlit) (5.5.1)\n",
            "Requirement already satisfied: click<9,>=7.0 in /usr/local/lib/python3.11/dist-packages (from streamlit) (8.1.8)\n",
            "Requirement already satisfied: numpy<3,>=1.23 in /usr/local/lib/python3.11/dist-packages (from streamlit) (1.26.4)\n",
            "Requirement already satisfied: packaging<25,>=20 in /usr/local/lib/python3.11/dist-packages (from streamlit) (24.2)\n",
            "Requirement already satisfied: pandas<3,>=1.4.0 in /usr/local/lib/python3.11/dist-packages (from streamlit) (2.2.2)\n",
            "Requirement already satisfied: pillow<12,>=7.1.0 in /usr/local/lib/python3.11/dist-packages (from streamlit) (11.1.0)\n",
            "Requirement already satisfied: protobuf<6,>=3.20 in /usr/local/lib/python3.11/dist-packages (from streamlit) (4.25.6)\n",
            "Requirement already satisfied: pyarrow>=7.0 in /usr/local/lib/python3.11/dist-packages (from streamlit) (17.0.0)\n",
            "Requirement already satisfied: requests<3,>=2.27 in /usr/local/lib/python3.11/dist-packages (from streamlit) (2.32.3)\n",
            "Requirement already satisfied: rich<14,>=10.14.0 in /usr/local/lib/python3.11/dist-packages (from streamlit) (13.9.4)\n",
            "Requirement already satisfied: tenacity<10,>=8.1.0 in /usr/local/lib/python3.11/dist-packages (from streamlit) (9.0.0)\n",
            "Requirement already satisfied: toml<2,>=0.10.1 in /usr/local/lib/python3.11/dist-packages (from streamlit) (0.10.2)\n",
            "Requirement already satisfied: typing-extensions<5,>=4.4.0 in /usr/local/lib/python3.11/dist-packages (from streamlit) (4.12.2)\n",
            "Collecting watchdog<7,>=2.1.5 (from streamlit)\n",
            "  Downloading watchdog-6.0.0-py3-none-manylinux2014_x86_64.whl.metadata (44 kB)\n",
            "\u001b[2K     \u001b[90m━━━━━━━━━━━━━━━━━━━━━━━━━━━━━━━━━━━━━━━━\u001b[0m \u001b[32m44.3/44.3 kB\u001b[0m \u001b[31m1.8 MB/s\u001b[0m eta \u001b[36m0:00:00\u001b[0m\n",
            "\u001b[?25hRequirement already satisfied: gitpython!=3.1.19,<4,>=3.0.7 in /usr/local/lib/python3.11/dist-packages (from streamlit) (3.1.44)\n",
            "Collecting pydeck<1,>=0.8.0b4 (from streamlit)\n",
            "  Downloading pydeck-0.9.1-py2.py3-none-any.whl.metadata (4.1 kB)\n",
            "Requirement already satisfied: tornado<7,>=6.0.3 in /usr/local/lib/python3.11/dist-packages (from streamlit) (6.4.2)\n",
            "Requirement already satisfied: jinja2 in /usr/local/lib/python3.11/dist-packages (from altair<6,>=4.0->streamlit) (3.1.5)\n",
            "Requirement already satisfied: jsonschema>=3.0 in /usr/local/lib/python3.11/dist-packages (from altair<6,>=4.0->streamlit) (4.23.0)\n",
            "Requirement already satisfied: narwhals>=1.14.2 in /usr/local/lib/python3.11/dist-packages (from altair<6,>=4.0->streamlit) (1.26.0)\n",
            "Requirement already satisfied: gitdb<5,>=4.0.1 in /usr/local/lib/python3.11/dist-packages (from gitpython!=3.1.19,<4,>=3.0.7->streamlit) (4.0.12)\n",
            "Requirement already satisfied: python-dateutil>=2.8.2 in /usr/local/lib/python3.11/dist-packages (from pandas<3,>=1.4.0->streamlit) (2.8.2)\n",
            "Requirement already satisfied: pytz>=2020.1 in /usr/local/lib/python3.11/dist-packages (from pandas<3,>=1.4.0->streamlit) (2025.1)\n",
            "Requirement already satisfied: tzdata>=2022.7 in /usr/local/lib/python3.11/dist-packages (from pandas<3,>=1.4.0->streamlit) (2025.1)\n",
            "Requirement already satisfied: charset-normalizer<4,>=2 in /usr/local/lib/python3.11/dist-packages (from requests<3,>=2.27->streamlit) (3.4.1)\n",
            "Requirement already satisfied: idna<4,>=2.5 in /usr/local/lib/python3.11/dist-packages (from requests<3,>=2.27->streamlit) (3.10)\n",
            "Requirement already satisfied: urllib3<3,>=1.21.1 in /usr/local/lib/python3.11/dist-packages (from requests<3,>=2.27->streamlit) (2.3.0)\n",
            "Requirement already satisfied: certifi>=2017.4.17 in /usr/local/lib/python3.11/dist-packages (from requests<3,>=2.27->streamlit) (2025.1.31)\n",
            "Requirement already satisfied: markdown-it-py>=2.2.0 in /usr/local/lib/python3.11/dist-packages (from rich<14,>=10.14.0->streamlit) (3.0.0)\n",
            "Requirement already satisfied: pygments<3.0.0,>=2.13.0 in /usr/local/lib/python3.11/dist-packages (from rich<14,>=10.14.0->streamlit) (2.18.0)\n",
            "Requirement already satisfied: smmap<6,>=3.0.1 in /usr/local/lib/python3.11/dist-packages (from gitdb<5,>=4.0.1->gitpython!=3.1.19,<4,>=3.0.7->streamlit) (5.0.2)\n",
            "Requirement already satisfied: MarkupSafe>=2.0 in /usr/local/lib/python3.11/dist-packages (from jinja2->altair<6,>=4.0->streamlit) (3.0.2)\n",
            "Requirement already satisfied: attrs>=22.2.0 in /usr/local/lib/python3.11/dist-packages (from jsonschema>=3.0->altair<6,>=4.0->streamlit) (25.1.0)\n",
            "Requirement already satisfied: jsonschema-specifications>=2023.03.6 in /usr/local/lib/python3.11/dist-packages (from jsonschema>=3.0->altair<6,>=4.0->streamlit) (2024.10.1)\n",
            "Requirement already satisfied: referencing>=0.28.4 in /usr/local/lib/python3.11/dist-packages (from jsonschema>=3.0->altair<6,>=4.0->streamlit) (0.36.2)\n",
            "Requirement already satisfied: rpds-py>=0.7.1 in /usr/local/lib/python3.11/dist-packages (from jsonschema>=3.0->altair<6,>=4.0->streamlit) (0.22.3)\n",
            "Requirement already satisfied: mdurl~=0.1 in /usr/local/lib/python3.11/dist-packages (from markdown-it-py>=2.2.0->rich<14,>=10.14.0->streamlit) (0.1.2)\n",
            "Requirement already satisfied: six>=1.5 in /usr/local/lib/python3.11/dist-packages (from python-dateutil>=2.8.2->pandas<3,>=1.4.0->streamlit) (1.17.0)\n",
            "Downloading streamlit-1.42.0-py2.py3-none-any.whl (9.6 MB)\n",
            "\u001b[2K   \u001b[90m━━━━━━━━━━━━━━━━━━━━━━━━━━━━━━━━━━━━━━━━\u001b[0m \u001b[32m9.6/9.6 MB\u001b[0m \u001b[31m57.8 MB/s\u001b[0m eta \u001b[36m0:00:00\u001b[0m\n",
            "\u001b[?25hDownloading pydeck-0.9.1-py2.py3-none-any.whl (6.9 MB)\n",
            "\u001b[2K   \u001b[90m━━━━━━━━━━━━━━━━━━━━━━━━━━━━━━━━━━━━━━━━\u001b[0m \u001b[32m6.9/6.9 MB\u001b[0m \u001b[31m84.8 MB/s\u001b[0m eta \u001b[36m0:00:00\u001b[0m\n",
            "\u001b[?25hDownloading watchdog-6.0.0-py3-none-manylinux2014_x86_64.whl (79 kB)\n",
            "\u001b[2K   \u001b[90m━━━━━━━━━━━━━━━━━━━━━━━━━━━━━━━━━━━━━━━━\u001b[0m \u001b[32m79.1/79.1 kB\u001b[0m \u001b[31m8.9 MB/s\u001b[0m eta \u001b[36m0:00:00\u001b[0m\n",
            "\u001b[?25hInstalling collected packages: watchdog, pydeck, streamlit\n",
            "Successfully installed pydeck-0.9.1 streamlit-1.42.0 watchdog-6.0.0\n"
          ]
        }
      ],
      "source": [
        "!pip install streamlit"
      ]
    },
    {
      "cell_type": "code",
      "source": [
        "# Import necessary libraries for data handling, modeling, evaluation, and UI\n",
        "import streamlit as st           # For creating the interactive UI\n",
        "import pandas as pd              # For data manipulation\n",
        "import numpy as np               # For numerical operations\n",
        "import matplotlib.pyplot as plt  # For plotting (if needed)\n",
        "from sklearn.model_selection import train_test_split, cross_val_score\n",
        "from sklearn.linear_model import LinearRegression\n",
        "from sklearn.ensemble import RandomForestRegressor\n",
        "from sklearn.metrics import mean_squared_error, mean_absolute_error, r2_score"
      ],
      "metadata": {
        "id": "UybOgz-flyjP"
      },
      "execution_count": 2,
      "outputs": []
    },
    {
      "cell_type": "markdown",
      "source": [
        "# --------------------------------------------------------------------------\n",
        "# Modeling Approach:\n",
        "#\n",
        "# - Task: Regression to predict net electrical energy output (PE) from ambient measurements.\n",
        "# - Features: Temperature (T), Ambient Pressure (AP), Relative Humidity (RH), Exhaust Vacuum (V)\n",
        "# - Algorithms: Using Linear Regression (baseline) and Random Forest Regression (to capture non-linearities)\n",
        "#\n",
        "# Data Splitting Strategy:\n",
        "# - 70% Training, 10% Validation, and 20% Test.\n",
        "#   1. First split 20% of the data as the test set.\n",
        "#   2. Then, from the remaining 80%, allocate 12.5% for validation (0.125 * 80% = 10% overall)\n",
        "##      and 87.5% for training (0.875 * 80% = 70% overall)."
      ],
      "metadata": {
        "id": "LP32HMuPnGsn"
      }
    },
    {
      "cell_type": "code",
      "source": [
        "# Caching the data load function to avoid unnecessary reloads\n",
        "@st.cache_data\n",
        "def load_data():\n",
        "    # Ensure the 'CCPP_data.csv' file is in the same directory or adjust the path accordingly\n",
        "    data = pd.read_csv('/content/drive/MyDrive/Colab Dataset/CCPP_data.csv')\n",
        "    return data"
      ],
      "metadata": {
        "colab": {
          "base_uri": "https://localhost:8080/"
        },
        "id": "vF7xvnn5nWmu",
        "outputId": "4dd16702-ae2b-4153-801c-0f2cb431772c"
      },
      "execution_count": 5,
      "outputs": [
        {
          "output_type": "stream",
          "name": "stderr",
          "text": [
            "2025-02-15 22:29:35.306 No runtime found, using MemoryCacheStorageManager\n"
          ]
        }
      ]
    },
    {
      "cell_type": "code",
      "source": [
        "# Train and select the best model using a separate validation set\n",
        "@st.cache_resource\n",
        "def train_model():\n",
        "    # Load the dataset\n",
        "    data = load_data()\n",
        "\n",
        "    # Define features and target variable\n",
        "    feature_cols = ['AT', 'AP', 'RH', 'V']  # Ambient measurements\n",
        "    target_col = 'PE'                      # Net electrical energy output (MW)\n",
        "    X = data[feature_cols]\n",
        "    y = data[target_col]\n",
        "\n",
        "    # First, split the data into 80% (training+validation) and 20% test set\n",
        "    X_train_val, X_test, y_train_val, y_test = train_test_split(X, y, test_size=0.20, random_state=42)\n",
        "\n",
        "    # Now split the 80% into training and validation sets:\n",
        "    # 10% of the full data (i.e., 12.5% of 80%) for validation and the rest for training.\n",
        "    X_train, X_val, y_train, y_val = train_test_split(X_train_val, y_train_val, test_size=0.125, random_state=42)\n",
        "\n",
        "    # -----------------------------\n",
        "    # Model Building & Comparison:\n",
        "    # -----------------------------\n",
        "    # Model 1: Linear Regression\n",
        "    lr_model = LinearRegression()\n",
        "    lr_model.fit(X_train, y_train)\n",
        "    lr_val_pred = lr_model.predict(X_val)\n",
        "    lr_val_rmse = np.sqrt(mean_squared_error(y_val, lr_val_pred))\n",
        "\n",
        "    # Model 2: Random Forest Regression with typical default hyperparameters\n",
        "    rf_model = RandomForestRegressor(random_state=42, n_estimators=100, max_depth=10)\n",
        "    rf_model.fit(X_train, y_train)\n",
        "    rf_val_pred = rf_model.predict(X_val)\n",
        "    rf_val_rmse = np.sqrt(mean_squared_error(y_val, rf_val_pred))\n",
        "\n",
        "    # Select the model with the lower RMSE on the validation set\n",
        "    if rf_val_rmse < lr_val_rmse:\n",
        "        selected_model_name = \"Random Forest Regression\"\n",
        "        best_model = rf_model\n",
        "        val_rmse = rf_val_rmse\n",
        "    else:\n",
        "        selected_model_name = \"Linear Regression\"\n",
        "        best_model = lr_model\n",
        "        val_rmse = lr_val_rmse\n",
        "\n",
        "    # Retrain the selected model on the combined training and validation sets for the final model\n",
        "    X_train_final = pd.concat([X_train, X_val])\n",
        "    y_train_final = pd.concat([y_train, y_val])\n",
        "    best_model.fit(X_train_final, y_train_final)\n",
        "\n",
        "    # -----------------------------\n",
        "    # Final Model Evaluation:\n",
        "    # -----------------------------\n",
        "    # Evaluate the final model on the test set to get unbiased performance metrics\n",
        "    y_test_pred = best_model.predict(X_test)\n",
        "    test_rmse = np.sqrt(mean_squared_error(y_test, y_test_pred))\n",
        "    test_mae = mean_absolute_error(y_test, y_test_pred)\n",
        "    test_r2 = r2_score(y_test, y_test_pred)\n",
        "\n",
        "    # Pack the metrics in a dictionary to display in the UI\n",
        "    metrics = {\n",
        "        \"Selected Model\": selected_model_name,\n",
        "        \"Validation RMSE\": val_rmse,\n",
        "        \"Test RMSE\": test_rmse,\n",
        "        \"Test MAE\": test_mae,\n",
        "        \"Test R²\": test_r2\n",
        "    }\n",
        "\n",
        "    return best_model, metrics\n",
        "\n",
        "# --------------------------------------------------------------------------\n",
        "# Streamlit UI: User Input and Model Prediction\n",
        "#\n",
        "# - The UI allows users to input ambient environmental measurements.\n",
        "# - The model predicts the net electrical energy output (PE) based on these inputs.\n",
        "# - Model evaluation metrics are displayed for user interpretation.\n",
        "# --------------------------------------------------------------------------\n",
        "def main():\n",
        "    st.title(\"Combined Cycle Power Plant Energy Output Prediction\")\n",
        "    st.write(\n",
        "        \"This application predicts the net hourly electrical energy output (PE) of a combined cycle power plant \"\n",
        "        \"based on ambient environmental measurements.\"\n",
        "    )\n",
        "\n",
        "    # Sidebar: User inputs for feature values\n",
        "    st.sidebar.header(\"Input Ambient Conditions\")\n",
        "    def user_input_features():\n",
        "        AT = st.sidebar.number_input(\"Temperature (°C)\", min_value=1.81, max_value=37.11, value=20.0)\n",
        "        AP = st.sidebar.number_input(\"Ambient Pressure (milibar)\", min_value=992.89, max_value=1033.30, value=1013.25)\n",
        "        RH = st.sidebar.number_input(\"Relative Humidity (%)\", min_value=25.56, max_value=100.16, value=50.0)\n",
        "        V = st.sidebar.number_input(\"Exhaust Vacuum (cm Hg)\", min_value=25.36, max_value=81.56, value=50.0)\n",
        "\n",
        "        # Create a DataFrame for the input features to match the model's expected format\n",
        "        input_data = {\"AT\": AT, \"AP\": AP, \"RH\": RH, \"V\": V}\n",
        "        features = pd.DataFrame(input_data, index=[0])\n",
        "        return features\n",
        "\n",
        "    input_df = user_input_features()\n",
        "\n",
        "    # Load and train the final model, then get the performance metrics\n",
        "    final_model, metrics = train_model()\n",
        "\n",
        "    # Display model evaluation metrics for interpretation\n",
        "    st.subheader(\"Model Evaluation Metrics\")\n",
        "    st.write(metrics)\n",
        "\n",
        "    # Use the trained model to predict based on user inputs\n",
        "    prediction = final_model.predict(input_df)\n",
        "\n",
        "    st.subheader(\"Prediction\")\n",
        "    st.write(f\"Predicted net hourly electrical energy output (PE): {prediction[0]:.2f} MW\")\n",
        "\n",
        "    # Optionally display the user input features for confirmation\n",
        "    st.subheader(\"User Input Features\")\n",
        "    st.write(input_df)\n",
        "\n",
        "# Run the Streamlit application\n",
        "if __name__ == '__main__':\n",
        "    main()"
      ],
      "metadata": {
        "colab": {
          "base_uri": "https://localhost:8080/"
        },
        "id": "xJHCtBD2q9xB",
        "outputId": "940e4201-d021-428a-80e8-430e98374669"
      },
      "execution_count": 6,
      "outputs": [
        {
          "output_type": "stream",
          "name": "stderr",
          "text": [
            "2025-02-15 22:29:39.102 Thread 'MainThread': missing ScriptRunContext! This warning can be ignored when running in bare mode.\n",
            "2025-02-15 22:29:39.104 Thread 'MainThread': missing ScriptRunContext! This warning can be ignored when running in bare mode.\n",
            "2025-02-15 22:29:39.106 Thread 'MainThread': missing ScriptRunContext! This warning can be ignored when running in bare mode.\n",
            "2025-02-15 22:29:39.114 Thread 'MainThread': missing ScriptRunContext! This warning can be ignored when running in bare mode.\n",
            "2025-02-15 22:29:39.117 Thread 'MainThread': missing ScriptRunContext! This warning can be ignored when running in bare mode.\n",
            "2025-02-15 22:29:39.121 Thread 'MainThread': missing ScriptRunContext! This warning can be ignored when running in bare mode.\n",
            "2025-02-15 22:29:39.124 Thread 'MainThread': missing ScriptRunContext! This warning can be ignored when running in bare mode.\n",
            "2025-02-15 22:29:39.126 Thread 'MainThread': missing ScriptRunContext! This warning can be ignored when running in bare mode.\n",
            "2025-02-15 22:29:39.131 Thread 'MainThread': missing ScriptRunContext! This warning can be ignored when running in bare mode.\n",
            "2025-02-15 22:29:39.135 Thread 'MainThread': missing ScriptRunContext! This warning can be ignored when running in bare mode.\n",
            "2025-02-15 22:29:39.156 Thread 'MainThread': missing ScriptRunContext! This warning can be ignored when running in bare mode.\n",
            "2025-02-15 22:29:39.163 Thread 'MainThread': missing ScriptRunContext! This warning can be ignored when running in bare mode.\n",
            "2025-02-15 22:29:39.165 Thread 'MainThread': missing ScriptRunContext! This warning can be ignored when running in bare mode.\n",
            "2025-02-15 22:29:39.169 Thread 'MainThread': missing ScriptRunContext! This warning can be ignored when running in bare mode.\n",
            "2025-02-15 22:29:39.176 Thread 'MainThread': missing ScriptRunContext! This warning can be ignored when running in bare mode.\n",
            "2025-02-15 22:29:39.177 Thread 'MainThread': missing ScriptRunContext! This warning can be ignored when running in bare mode.\n",
            "2025-02-15 22:29:39.178 Thread 'MainThread': missing ScriptRunContext! This warning can be ignored when running in bare mode.\n",
            "2025-02-15 22:29:39.193 Thread 'MainThread': missing ScriptRunContext! This warning can be ignored when running in bare mode.\n",
            "2025-02-15 22:29:39.201 Thread 'MainThread': missing ScriptRunContext! This warning can be ignored when running in bare mode.\n",
            "2025-02-15 22:29:39.205 Thread 'MainThread': missing ScriptRunContext! This warning can be ignored when running in bare mode.\n",
            "2025-02-15 22:29:39.210 Thread 'MainThread': missing ScriptRunContext! This warning can be ignored when running in bare mode.\n",
            "2025-02-15 22:29:39.215 Thread 'MainThread': missing ScriptRunContext! This warning can be ignored when running in bare mode.\n",
            "2025-02-15 22:29:39.218 Thread 'MainThread': missing ScriptRunContext! This warning can be ignored when running in bare mode.\n",
            "2025-02-15 22:29:39.221 Thread 'MainThread': missing ScriptRunContext! This warning can be ignored when running in bare mode.\n",
            "2025-02-15 22:29:39.227 Thread 'MainThread': missing ScriptRunContext! This warning can be ignored when running in bare mode.\n",
            "2025-02-15 22:29:39.229 Thread 'MainThread': missing ScriptRunContext! This warning can be ignored when running in bare mode.\n",
            "2025-02-15 22:29:39.234 Thread 'MainThread': missing ScriptRunContext! This warning can be ignored when running in bare mode.\n",
            "2025-02-15 22:29:39.241 Thread 'MainThread': missing ScriptRunContext! This warning can be ignored when running in bare mode.\n",
            "2025-02-15 22:29:39.242 Thread 'MainThread': missing ScriptRunContext! This warning can be ignored when running in bare mode.\n",
            "2025-02-15 22:29:39.246 Thread 'MainThread': missing ScriptRunContext! This warning can be ignored when running in bare mode.\n",
            "2025-02-15 22:29:39.254 Thread 'MainThread': missing ScriptRunContext! This warning can be ignored when running in bare mode.\n",
            "2025-02-15 22:29:39.258 Thread 'MainThread': missing ScriptRunContext! This warning can be ignored when running in bare mode.\n",
            "2025-02-15 22:29:39.266 Thread 'MainThread': missing ScriptRunContext! This warning can be ignored when running in bare mode.\n",
            "2025-02-15 22:29:39.271 Thread 'MainThread': missing ScriptRunContext! This warning can be ignored when running in bare mode.\n",
            "2025-02-15 22:29:39.275 Thread 'MainThread': missing ScriptRunContext! This warning can be ignored when running in bare mode.\n",
            "2025-02-15 22:29:39.281 No runtime found, using MemoryCacheStorageManager\n",
            "2025-02-15 22:29:39.786 Thread 'Thread-12': missing ScriptRunContext! This warning can be ignored when running in bare mode.\n",
            "2025-02-15 22:29:39.794 Thread 'Thread-12': missing ScriptRunContext! This warning can be ignored when running in bare mode.\n",
            "2025-02-15 22:29:45.820 Thread 'MainThread': missing ScriptRunContext! This warning can be ignored when running in bare mode.\n",
            "2025-02-15 22:29:45.822 Thread 'MainThread': missing ScriptRunContext! This warning can be ignored when running in bare mode.\n",
            "2025-02-15 22:29:45.828 Thread 'MainThread': missing ScriptRunContext! This warning can be ignored when running in bare mode.\n",
            "2025-02-15 22:29:45.830 Thread 'MainThread': missing ScriptRunContext! This warning can be ignored when running in bare mode.\n",
            "2025-02-15 22:29:45.833 Thread 'MainThread': missing ScriptRunContext! This warning can be ignored when running in bare mode.\n",
            "2025-02-15 22:29:45.835 Thread 'MainThread': missing ScriptRunContext! This warning can be ignored when running in bare mode.\n",
            "2025-02-15 22:29:45.857 Thread 'MainThread': missing ScriptRunContext! This warning can be ignored when running in bare mode.\n",
            "2025-02-15 22:29:45.858 Thread 'MainThread': missing ScriptRunContext! This warning can be ignored when running in bare mode.\n",
            "2025-02-15 22:29:45.860 Thread 'MainThread': missing ScriptRunContext! This warning can be ignored when running in bare mode.\n",
            "2025-02-15 22:29:45.862 Thread 'MainThread': missing ScriptRunContext! This warning can be ignored when running in bare mode.\n",
            "2025-02-15 22:29:45.864 Thread 'MainThread': missing ScriptRunContext! This warning can be ignored when running in bare mode.\n",
            "2025-02-15 22:29:45.866 Thread 'MainThread': missing ScriptRunContext! This warning can be ignored when running in bare mode.\n",
            "2025-02-15 22:29:45.867 Thread 'MainThread': missing ScriptRunContext! This warning can be ignored when running in bare mode.\n",
            "2025-02-15 22:29:45.869 Thread 'MainThread': missing ScriptRunContext! This warning can be ignored when running in bare mode.\n",
            "2025-02-15 22:29:45.917 Thread 'MainThread': missing ScriptRunContext! This warning can be ignored when running in bare mode.\n",
            "2025-02-15 22:29:45.919 Thread 'MainThread': missing ScriptRunContext! This warning can be ignored when running in bare mode.\n"
          ]
        }
      ]
    },
    {
      "cell_type": "code",
      "source": [
        "%%writefile app.py"
      ],
      "metadata": {
        "colab": {
          "base_uri": "https://localhost:8080/"
        },
        "id": "jQ-v6v_xvxWa",
        "outputId": "0e836be5-4575-4319-969c-b3e8d8ba6b85"
      },
      "execution_count": 11,
      "outputs": [
        {
          "output_type": "stream",
          "name": "stdout",
          "text": [
            "Writing app.py\n"
          ]
        }
      ]
    },
    {
      "cell_type": "code",
      "source": [
        "!streamlit run app.py & npx localtunnel --port 8000\n"
      ],
      "metadata": {
        "colab": {
          "base_uri": "https://localhost:8080/"
        },
        "id": "8gAW2WhNyNGs",
        "outputId": "bfb8e341-a09f-4f5a-ee74-e853cce3cad9"
      },
      "execution_count": null,
      "outputs": [
        {
          "output_type": "stream",
          "name": "stdout",
          "text": [
            "\n",
            "Collecting usage statistics. To deactivate, set browser.gatherUsageStats to false.\n",
            "\u001b[0m\n",
            "\u001b[1G\u001b[0K⠙\u001b[1G\u001b[0K⠹\u001b[1G\u001b[0K⠸\u001b[0m\n",
            "\u001b[34m\u001b[1m  You can now view your Streamlit app in your browser.\u001b[0m\n",
            "\u001b[0m\n",
            "\u001b[34m  Local URL: \u001b[0m\u001b[1mhttp://localhost:8501\u001b[0m\n",
            "\u001b[34m  Network URL: \u001b[0m\u001b[1mhttp://172.28.0.12:8501\u001b[0m\n",
            "\u001b[34m  External URL: \u001b[0m\u001b[1mhttp://34.106.30.70:8501\u001b[0m\n",
            "\u001b[0m\n",
            "\u001b[1G\u001b[0K⠼\u001b[1G\u001b[0K⠴\u001b[1G\u001b[0Kyour url is: https://four-bobcats-cross.loca.lt\n"
          ]
        }
      ]
    },
    {
      "cell_type": "code",
      "source": [
        "!curl https://loca.lt/mytunnelpassword"
      ],
      "metadata": {
        "colab": {
          "base_uri": "https://localhost:8080/"
        },
        "id": "Abd2R30q1Brl",
        "outputId": "6c0bfe13-0a76-4ab8-f5e8-7f7b6b328efe"
      },
      "execution_count": 16,
      "outputs": [
        {
          "output_type": "stream",
          "name": "stdout",
          "text": [
            "34.106.30.70"
          ]
        }
      ]
    }
  ]
}