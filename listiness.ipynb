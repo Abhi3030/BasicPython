{
 "cells": [
  {
   "cell_type": "markdown",
   "metadata": {},
   "source": [
    "# Listiness.. or things that behave like lists"
   ]
  },
  {
   "cell_type": "markdown",
   "metadata": {},
   "source": [
    "Python puts great stock in the idea of having  **protocols** or mechanisms of behavior, and identifying cases in which this behavior is common.\n",
    "\n",
    "One of the most important ideas is that of things that behave like a *list of items*. \n",
    "\n",
    "These include lists, strings, and files. Many other data structures in Python are made to behave like lists as well, so that their content can be *iterated* through, in addition to their own native behavior."
   ]
  },
  {
   "cell_type": "markdown",
   "metadata": {
    "colab_type": "text",
    "id": "jDynSCDMwHcC"
   },
   "source": [
    "## Lists\n",
    "\n",
    "The first of these that we should consider, are, well, lists themselves :-). Lets see how python lists behave.\n",
    "\n",
    "A list in Python is a sequence of anything!\n",
    "\n",
    "Lists are mutable; you can insert and delete elements anytime."
   ]
  },
  {
   "cell_type": "code",
   "execution_count": 32,
   "metadata": {
    "colab": {},
    "colab_type": "code",
    "id": "kDz4HzEbwORg"
   },
   "outputs": [
    {
     "name": "stdout",
     "output_type": "stream",
     "text": [
      "Wednesday\n"
     ]
    }
   ],
   "source": [
    "# CREATING A LIST\n",
    "\n",
    "# A list is made from zero or more elements, separated by commas, and surrounded by square\n",
    "empty_list = []\n",
    "working_days = ['Monday', 'Tuesday', 'Wednesday', 'Thursday', 'Friday']\n",
    "print (working_days[2])"
   ]
  },
  {
   "cell_type": "markdown",
   "metadata": {},
   "source": [
    "Notice that Python lists are indexed from 0. The first element gets index 0, the second element gets index 1, and so on. Thus `working_days[2]` gives us the 3rd element."
   ]
  },
  {
   "cell_type": "code",
   "execution_count": 33,
   "metadata": {
    "colab": {},
    "colab_type": "code",
    "id": "kDz4HzEbwORg"
   },
   "outputs": [
    {
     "name": "stdout",
     "output_type": "stream",
     "text": [
      "<class 'list'>\n"
     ]
    }
   ],
   "source": [
    "# An empty list can be created using the list() function:\n",
    "next_empty_list = list()\n",
    "print (type(next_empty_list))"
   ]
  },
  {
   "cell_type": "markdown",
   "metadata": {},
   "source": [
    "![](listiness.slides.dir/3.png)"
   ]
  },
  {
   "cell_type": "markdown",
   "metadata": {},
   "source": [
    "There is a class of objects in Python that are not lists, bur rather, like lists, have a sequential existent. We dont want to generate them until we need them because they are easy to generate and would otherwise take up memory. An example is the\n",
    "object created by the function `range(start, stop)` which just gives you sequential numbers from start to 1 before stop. To generate these numbers, we can pass them to the `list` function"
   ]
  },
  {
   "cell_type": "code",
   "execution_count": 55,
   "metadata": {},
   "outputs": [
    {
     "data": {
      "text/plain": [
       "range(1, 10)"
      ]
     },
     "execution_count": 55,
     "metadata": {},
     "output_type": "execute_result"
    }
   ],
   "source": [
    "range(1,10)"
   ]
  },
  {
   "cell_type": "code",
   "execution_count": 34,
   "metadata": {
    "colab": {},
    "colab_type": "code",
    "id": "2w00JDg0wS3-"
   },
   "outputs": [
    {
     "name": "stdout",
     "output_type": "stream",
     "text": [
      "[1, 2, 3, 4, 5, 6, 7, 8, 9]\n"
     ]
    }
   ],
   "source": [
    "num_list = list(range(1,10)) \n",
    "print(num_list) "
   ]
  },
  {
   "cell_type": "code",
   "execution_count": 35,
   "metadata": {
    "colab": {},
    "colab_type": "code",
    "id": "VwQolwoUwUfE"
   },
   "outputs": [
    {
     "name": "stdout",
     "output_type": "stream",
     "text": [
      "[1, 8, 3, 4]\n"
     ]
    }
   ],
   "source": [
    "# Lists are mutable (elements are changeable) \n",
    "num_list = [1, 2, 3, 4]\n",
    "num_list[1] = 8 \n",
    "print (num_list)"
   ]
  },
  {
   "cell_type": "markdown",
   "metadata": {},
   "source": [
    "![](listiness.slides.dir/4.png)"
   ]
  },
  {
   "cell_type": "code",
   "execution_count": 36,
   "metadata": {
    "colab": {},
    "colab_type": "code",
    "id": "sdBbnLTVwXJf"
   },
   "outputs": [
    {
     "name": "stdout",
     "output_type": "stream",
     "text": [
      "[1, 2, 3, 4]\n",
      "4\n"
     ]
    }
   ],
   "source": [
    "# Indexing a list\n",
    "# - Any integer expression can be used as an index\n",
    "# - If an index has a negative value, it counts from backward\n",
    "lst = list(range(1,5))\n",
    "print(lst)\n",
    "print (lst[-1])"
   ]
  },
  {
   "cell_type": "markdown",
   "metadata": {},
   "source": [
    "You can get slices of lists"
   ]
  },
  {
   "cell_type": "code",
   "execution_count": 37,
   "metadata": {},
   "outputs": [
    {
     "data": {
      "text/plain": [
       "[1, 2, 3]"
      ]
     },
     "execution_count": 37,
     "metadata": {},
     "output_type": "execute_result"
    }
   ],
   "source": [
    "lst[0:3] # from 0, dont include whats at index 3"
   ]
  },
  {
   "cell_type": "code",
   "execution_count": 38,
   "metadata": {},
   "outputs": [
    {
     "data": {
      "text/plain": [
       "[2, 3]"
      ]
     },
     "execution_count": 38,
     "metadata": {},
     "output_type": "execute_result"
    }
   ],
   "source": [
    "lst[-3:-1]"
   ]
  },
  {
   "cell_type": "code",
   "execution_count": 39,
   "metadata": {
    "colab": {},
    "colab_type": "code",
    "id": "dsEJup_xwZYQ"
   },
   "outputs": [
    {
     "name": "stdout",
     "output_type": "stream",
     "text": [
      "[[1, 2, 3, 4, 5], ['PP', 'BDA', 'USP', 'WTA'], '6th sem'] 3\n"
     ]
    }
   ],
   "source": [
    "# A list can have another list, or anything else as its element\n",
    "numbers = [1, 2, 3, 4, 5]\n",
    "courses = ['PP', 'BDA', \"USP\", 'WTA'] \n",
    "new_list = [numbers, courses, '6th sem'] \n",
    "print (new_list, len(new_list))"
   ]
  },
  {
   "cell_type": "code",
   "execution_count": 40,
   "metadata": {
    "colab": {},
    "colab_type": "code",
    "id": "yxPMSYv2wi4y"
   },
   "outputs": [
    {
     "data": {
      "text/plain": [
       "True"
      ]
     },
     "execution_count": 40,
     "metadata": {},
     "output_type": "execute_result"
    }
   ],
   "source": [
    "#Membership (using 'in' operator)\n",
    "'a' in list_a"
   ]
  },
  {
   "cell_type": "markdown",
   "metadata": {},
   "source": [
    "## Operations on lists\n",
    "\n",
    "Lists support many methods which make using them simple. My favorite is `append`.\n"
   ]
  },
  {
   "cell_type": "code",
   "execution_count": 41,
   "metadata": {
    "colab": {},
    "colab_type": "code",
    "id": "N8t4LmEAwlLf"
   },
   "outputs": [
    {
     "name": "stdout",
     "output_type": "stream",
     "text": [
      "['a', 'b', 'c', 'd']\n"
     ]
    }
   ],
   "source": [
    "# append(x) - Adds a new element 'x' at the end of the list\n",
    "alist = ['a', 'b', 'c'] \n",
    "alist.append('d') \n",
    "print (alist)"
   ]
  },
  {
   "cell_type": "code",
   "execution_count": 42,
   "metadata": {},
   "outputs": [
    {
     "data": {
      "text/plain": [
       "['a', 'b', 'hello', 'c', 'd']"
      ]
     },
     "execution_count": 42,
     "metadata": {},
     "output_type": "execute_result"
    }
   ],
   "source": [
    "# insert(i, x) - inserts a new element 'x' at a specified index 'i'\n",
    "alist.insert(2, \"hello\")\n",
    "alist"
   ]
  },
  {
   "cell_type": "code",
   "execution_count": 43,
   "metadata": {
    "colab": {},
    "colab_type": "code",
    "id": "C9YZUZcHw-4K"
   },
   "outputs": [
    {
     "data": {
      "text/plain": [
       "[2, 4, 6]"
      ]
     },
     "execution_count": 43,
     "metadata": {},
     "output_type": "execute_result"
    }
   ],
   "source": [
    "# sorted(list) - returns the sorted 'list', but does not replace order in original list \n",
    "num = [ 4, 6, 2]\n",
    "num = sorted(num)\n",
    "num"
   ]
  },
  {
   "cell_type": "code",
   "execution_count": 44,
   "metadata": {
    "colab": {},
    "colab_type": "code",
    "id": "a8W1o6D2xIyG"
   },
   "outputs": [
    {
     "data": {
      "text/plain": [
       "[4, 7, 2, 3, 9]"
      ]
     },
     "execution_count": 44,
     "metadata": {},
     "output_type": "execute_result"
    }
   ],
   "source": [
    "# pop(i) - removes and returns the element in index position 'i'\n",
    "num = [4, 7, 2, 6, 3, 9] \n",
    "num.pop(3)\n",
    "num"
   ]
  },
  {
   "cell_type": "code",
   "execution_count": 45,
   "metadata": {
    "colab": {},
    "colab_type": "code",
    "id": "u3mw0lvxxN5M"
   },
   "outputs": [
    {
     "data": {
      "text/plain": [
       "[]"
      ]
     },
     "execution_count": 45,
     "metadata": {},
     "output_type": "execute_result"
    }
   ],
   "source": [
    "# clear() - removes all the elements from a list.\n",
    "num = [4, 7, 2, 6, 3, 9]\n",
    "num.clear()\n",
    "num"
   ]
  },
  {
   "cell_type": "markdown",
   "metadata": {},
   "source": [
    "Adding lists produces a bigger list! This is an example of a programming technique called operator overloading"
   ]
  },
  {
   "cell_type": "code",
   "execution_count": 46,
   "metadata": {},
   "outputs": [
    {
     "data": {
      "text/plain": [
       "[1, 2, 3, 'a', 'b', 'c']"
      ]
     },
     "execution_count": 46,
     "metadata": {},
     "output_type": "execute_result"
    }
   ],
   "source": [
    "first_list = [1, 2, 3]\n",
    "second_list = ['a', 'b', 'c']\n",
    "first_list + second_list"
   ]
  },
  {
   "cell_type": "markdown",
   "metadata": {},
   "source": [
    "## Iterating over lists\n",
    "\n",
    "Using a for loop to do iteration is quite simple."
   ]
  },
  {
   "cell_type": "code",
   "execution_count": 47,
   "metadata": {},
   "outputs": [
    {
     "name": "stdout",
     "output_type": "stream",
     "text": [
      "4\n",
      "7\n",
      "2\n",
      "6\n",
      "3\n",
      "9\n"
     ]
    }
   ],
   "source": [
    "num = [4, 7, 2, 6, 3, 9]\n",
    "for ele in num:\n",
    "    print(ele)"
   ]
  },
  {
   "cell_type": "markdown",
   "metadata": {},
   "source": [
    "You can now mix in conditionals to filter your iteration:"
   ]
  },
  {
   "cell_type": "code",
   "execution_count": 48,
   "metadata": {},
   "outputs": [
    {
     "name": "stdout",
     "output_type": "stream",
     "text": [
      "4\n",
      "2\n",
      "6\n"
     ]
    }
   ],
   "source": [
    "for ele in num:\n",
    "    if ele % 2 == 0: #even numbers only\n",
    "        print(ele)"
   ]
  },
  {
   "cell_type": "markdown",
   "metadata": {},
   "source": [
    "There is a short-cut iteration syntax called a list comprehension, often used to construct new lists"
   ]
  },
  {
   "cell_type": "code",
   "execution_count": 49,
   "metadata": {},
   "outputs": [
    {
     "data": {
      "text/plain": [
       "[4, 7, 2, 6, 3, 9]"
      ]
     },
     "execution_count": 49,
     "metadata": {},
     "output_type": "execute_result"
    }
   ],
   "source": [
    "list_with_same_as_num = [e for e in num]\n",
    "list_with_same_as_num"
   ]
  },
  {
   "cell_type": "markdown",
   "metadata": {},
   "source": [
    "This kind of syntax is really useful when combined with conditionals:"
   ]
  },
  {
   "cell_type": "code",
   "execution_count": 50,
   "metadata": {},
   "outputs": [
    {
     "data": {
      "text/plain": [
       "[4, 2, 6]"
      ]
     },
     "execution_count": 50,
     "metadata": {},
     "output_type": "execute_result"
    }
   ],
   "source": [
    "list_with_evens = [e for e in num if e % 2 == 0]\n",
    "list_with_evens"
   ]
  },
  {
   "cell_type": "markdown",
   "metadata": {
    "colab_type": "text",
    "id": "-kKCRDDZoNvk"
   },
   "source": [
    "## Strings\n",
    "\n",
    "Strings such as `hello world` in python behave just like lists, and a lot of what you learn about lists applies to them: they are **iterable**, and they have a length! But they have one critical additional property: they are **immutable**, that is they cant be changed!\n"
   ]
  },
  {
   "cell_type": "code",
   "execution_count": 51,
   "metadata": {
    "colab": {},
    "colab_type": "code",
    "id": "Cbkj834onHje"
   },
   "outputs": [
    {
     "name": "stdout",
     "output_type": "stream",
     "text": [
      "This is a string 16\n",
      "s\n"
     ]
    }
   ],
   "source": [
    "var = \"This is a string\"\n",
    "print (var, len(var))\n",
    "print (var[3]) # the s of This"
   ]
  },
  {
   "cell_type": "code",
   "execution_count": 52,
   "metadata": {},
   "outputs": [
    {
     "name": "stdout",
     "output_type": "stream",
     "text": [
      "T\n",
      "h\n",
      "i\n",
      "s\n",
      " \n",
      "i\n",
      "s\n",
      " \n",
      "a\n",
      " \n",
      "s\n",
      "t\n",
      "r\n",
      "i\n",
      "n\n",
      "g\n"
     ]
    }
   ],
   "source": [
    "for char in var:\n",
    "    print(char)"
   ]
  },
  {
   "cell_type": "code",
   "execution_count": 53,
   "metadata": {},
   "outputs": [
    {
     "ename": "TypeError",
     "evalue": "'str' object does not support item assignment",
     "output_type": "error",
     "traceback": [
      "\u001b[0;31m---------------------------------------------------------------------------\u001b[0m",
      "\u001b[0;31mTypeError\u001b[0m                                 Traceback (most recent call last)",
      "\u001b[0;32m<ipython-input-53-afd63de1e61e>\u001b[0m in \u001b[0;36m<module>\u001b[0;34m\u001b[0m\n\u001b[0;32m----> 1\u001b[0;31m \u001b[0mvar\u001b[0m\u001b[0;34m[\u001b[0m\u001b[0;36m3\u001b[0m\u001b[0;34m]\u001b[0m \u001b[0;34m=\u001b[0m \u001b[0;34m\"t\"\u001b[0m \u001b[0;31m# this will fail because immutability\u001b[0m\u001b[0;34m\u001b[0m\u001b[0;34m\u001b[0m\u001b[0m\n\u001b[0m",
      "\u001b[0;31mTypeError\u001b[0m: 'str' object does not support item assignment"
     ]
    }
   ],
   "source": [
    "var[3] = \"t\" # this will fail because immutability"
   ]
  },
  {
   "cell_type": "markdown",
   "metadata": {},
   "source": [
    "Strings can be sliced just as lists can"
   ]
  },
  {
   "cell_type": "code",
   "execution_count": 54,
   "metadata": {
    "colab": {},
    "colab_type": "code",
    "id": "Cbkj834onHje"
   },
   "outputs": [
    {
     "name": "stdout",
     "output_type": "stream",
     "text": [
      "This is a string\n",
      "s a string\n",
      "hi\n",
      "This is a strin\n",
      "i sa\n"
     ]
    }
   ],
   "source": [
    "#String slicing\n",
    "print(var)\n",
    "print (var[6:])\n",
    "print (var[1:3])\n",
    "print (var[:-1])\n",
    "print (var[2:10:2]) #the last parameter is for chagning the step size"
   ]
  },
  {
   "cell_type": "markdown",
   "metadata": {},
   "source": [
    "![](listiness.slides.dir/7.png)"
   ]
  },
  {
   "cell_type": "markdown",
   "metadata": {
    "colab_type": "text",
    "id": "JLnDLEqpxV25"
   },
   "source": [
    "## Files\n",
    "\n",
    "The built-in `open()` function creates a Python file object, which serves as a link to a file residing on your machine. After calling 'open()', strings of data can be transferred to and from the associated external file by calling the returned file object's methods.\n",
    "\n",
    "At this point, you can read data from the file as a whole (`read()`, or `n` bytes at a time, `read(n)`. You can read a line at a time with `readline()`, and all the lines into a list of strings with `readlines()`. Similar methods exist for writing.\n",
    "\n",
    "You must close the file after you finish using it.\n",
    "\n",
    "![](listiness.slides.dir/10.png)\n",
    "\n",
    "But as you might have expected, you can treat a file just like a list even more idiomatically, as we shall see."
   ]
  },
  {
   "cell_type": "code",
   "execution_count": 31,
   "metadata": {},
   "outputs": [
    {
     "name": "stdout",
     "output_type": "stream",
     "text": [
      "<< THE TRAGEDY OF JULIUS CAESAR\n",
      " >>\n",
      "<< \n",
      " >>\n",
      "<< \n",
      " >>\n",
      "<< by William Shakespeare\n",
      " >>\n",
      "<< \n",
      " >>\n",
      "<< \n",
      " >>\n",
      "<< Contents\n",
      " >>\n",
      "<< \n",
      " >>\n",
      "<< ACT I\n",
      " >>\n",
      "<< Scene I. Rome. A street.\n",
      " >>\n"
     ]
    }
   ],
   "source": [
    "fd = open(\"data/Julius Caesar.txt\")\n",
    "counter = 0\n",
    "for line in fd:\n",
    "    if counter < 10: # print first 10 lines, there are lots!\n",
    "        print(\"<<\", line, \">>\")\n",
    "    counter = counter + 1 # also writeable as counter += 1\n",
    "fd.close()"
   ]
  },
  {
   "cell_type": "markdown",
   "metadata": {},
   "source": [
    "Notice that the newlines remain. You can use the string method `strip` to remove them. There are many such \"methods\", which are functions that belong to string \"objects\"."
   ]
  },
  {
   "cell_type": "code",
   "execution_count": 29,
   "metadata": {},
   "outputs": [
    {
     "name": "stdout",
     "output_type": "stream",
     "text": [
      "<< THE TRAGEDY OF JULIUS CAESAR >>\n",
      "<<  >>\n",
      "<<  >>\n",
      "<< by William Shakespeare >>\n",
      "<<  >>\n",
      "<<  >>\n",
      "<< Contents >>\n",
      "<<  >>\n",
      "<< ACT I >>\n",
      "<< Scene I. Rome. A street. >>\n",
      "10\n"
     ]
    }
   ],
   "source": [
    "fd = open(\"data/Julius Caesar.txt\")\n",
    "counter = 0\n",
    "for line in fd:\n",
    "    if counter < 10: # print first 10 lines\n",
    "        print(\"<<\", line.strip(), \">>\")\n",
    "    else:\n",
    "        break # break out of for loop\n",
    "    counter = counter + 1 # also writeable as counter += 1\n",
    "fd.close()\n",
    "print(counter)"
   ]
  },
  {
   "cell_type": "markdown",
   "metadata": {},
   "source": [
    "Above we added a `break` statement in the for loop which ended our iteration through the file (its the whole play!!!). You can use `readlines()` here but it will read the entire file into memory."
   ]
  },
  {
   "cell_type": "code",
   "execution_count": 42,
   "metadata": {},
   "outputs": [
    {
     "name": "stdout",
     "output_type": "stream",
     "text": [
      "4639\n"
     ]
    }
   ],
   "source": [
    "fd = open(\"data/Julius Caesar.txt\")\n",
    "lines = [line.strip() for line in fd.readlines()]\n",
    "fd.close()\n",
    "print(len(lines))"
   ]
  },
  {
   "cell_type": "markdown",
   "metadata": {},
   "source": [
    "### What about writing?\n",
    "\n",
    "Lets write the first ten lines out..."
   ]
  },
  {
   "cell_type": "code",
   "execution_count": 44,
   "metadata": {},
   "outputs": [
    {
     "name": "stdout",
     "output_type": "stream",
     "text": [
      "<< THE TRAGEDY OF JULIUS CAESAR >>\n",
      "<<  >>\n",
      "<<  >>\n",
      "<< by William Shakespeare >>\n",
      "<<  >>\n",
      "<<  >>\n",
      "<< Contents >>\n",
      "<<  >>\n",
      "<< ACT I >>\n",
      "<< Scene I. Rome. A street. >>\n",
      "10\n"
     ]
    }
   ],
   "source": [
    "fd = open(\"data/Julius Caesar.txt\")\n",
    "fd2 = open(\"data/julfirst10.txt\", \"w\")\n",
    "counter = 0\n",
    "for line in fd:\n",
    "    if counter < 10: # print first 10 lines\n",
    "        print(\"<<\", line.strip(), \">>\")\n",
    "        fd2.write(line)\n",
    "    else:\n",
    "        break # break out of for loop\n",
    "    counter = counter + 1 # also writeable as counter += 1\n",
    "fd.close()\n",
    "fd2.close()\n",
    "print(counter)"
   ]
  }
 ],
 "metadata": {
  "colab": {
   "collapsed_sections": [],
   "name": "L1 - lec2.ipynb",
   "provenance": []
  },
  "kernelspec": {
   "display_name": "Python 3",
   "language": "python",
   "name": "python3"
  },
  "language_info": {
   "codemirror_mode": {
    "name": "ipython",
    "version": 3
   },
   "file_extension": ".py",
   "mimetype": "text/x-python",
   "name": "python",
   "nbconvert_exporter": "python",
   "pygments_lexer": "ipython3",
   "version": "3.7.6"
  }
 },
 "nbformat": 4,
 "nbformat_minor": 4
}
